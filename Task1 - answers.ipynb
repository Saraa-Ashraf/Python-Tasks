{
 "cells": [
  {
   "cell_type": "code",
   "execution_count": 314,
   "metadata": {},
   "outputs": [],
   "source": [
    "import pandas as pd\n",
    "import numpy  as np\n",
    "excelf = pd.read_excel('/home/sara/Desktop/ITI_Python_for_Data_Management/Task 1/data/Energy Indicators.xls')\n",
    "df = pd.DataFrame(excelf)"
   ]
  },
  {
   "cell_type": "code",
   "execution_count": 315,
   "metadata": {},
   "outputs": [],
   "source": [
    "energy = df.iloc[17:244, 2:7]\n",
    "energy=energy.rename(columns = {'Unnamed: 2':'Country', 'Unnamed: 3':'Energy Supply', 'Unnamed: 4':'Energy Supply per Capita','Unnamed: 5': '% Renewable'})\n",
    "#print(energy.columns)\n",
    "#energy"
   ]
  },
  {
   "cell_type": "code",
   "execution_count": 316,
   "metadata": {},
   "outputs": [],
   "source": [
    "energy[['Energy Supply','Energy Supply per Capita','% Renewable']] =energy[ ['Energy Supply','Energy Supply per Capita','% Renewable'] ].replace('...',np.NaN) "
   ]
  },
  {
   "cell_type": "code",
   "execution_count": 317,
   "metadata": {},
   "outputs": [],
   "source": [
    "energy['Energy Supply'] = energy['Energy Supply'] * 1000000\n",
    "#energy"
   ]
  },
  {
   "cell_type": "code",
   "execution_count": 334,
   "metadata": {},
   "outputs": [],
   "source": [
    "energy['Country']=energy['Country'].replace({'Republic of Korea': 'South Korea',\n",
    "'United States of America': 'United States',\n",
    "'United Kingdom of Great Britain and Northern Ireland': 'United Kingdom',\n",
    "'China, Hong Kong Special Administrative Region': 'Hong Kong', \n",
    "'Iran, Islamic Rep.': 'Iran'})\n",
    "energy['Country']=energy['Country'].str.replace(r\"\\(.*\\)\",\"\")\n",
    "energy['Country']=energy['Country'].str.replace('\\d+','')\n",
    "#energy"
   ]
  },
  {
   "cell_type": "code",
   "execution_count": 337,
   "metadata": {
    "scrolled": false
   },
   "outputs": [],
   "source": [
    "GDP = pd.read_csv('/home/sara/Desktop/ITI_Python_for_Data_Management/Task 1/data/world_bank.csv',skiprows=4)\n"
   ]
  },
  {
   "cell_type": "code",
   "execution_count": 338,
   "metadata": {},
   "outputs": [],
   "source": [
    "GDP['Country Name'] = GDP['Country Name'].replace({'Korea, Rep.': 'South Korea', \n",
    "'Iran, Islamic Rep.': 'Iran',\n",
    "'Hong Kong SAR, China': 'Hong Kong'})\n",
    "#GDP"
   ]
  },
  {
   "cell_type": "code",
   "execution_count": 321,
   "metadata": {},
   "outputs": [],
   "source": [
    "GDP = GDP[['Country Name','2006', '2007', '2008','2009', '2010', '2011', '2012', '2013', '2014', '2015']]\n",
    "#GDP.columns = [['Country','2006', '2007', '2008','2009', '2010', '2011', '2012', '2013', '2014', '2015']]"
   ]
  },
  {
   "cell_type": "code",
   "execution_count": 322,
   "metadata": {},
   "outputs": [],
   "source": [
    "ScimEn = pd.read_excel('/home/sara/Desktop/ITI_Python_for_Data_Management/Task 1/data/scimagojr-3.xlsx')\n",
    "ScimEn = ScimEn[:15]\n",
    "#ScimEn"
   ]
  },
  {
   "cell_type": "code",
   "execution_count": 323,
   "metadata": {},
   "outputs": [],
   "source": [
    "#Step 3 \n",
    "#Join the three datasets: GDP, Energy, and ScimEn into a new dataset \n",
    "#(using the intersection of country names). \n",
    "#Use only the last 10 years (2006-2015) of GDP data \n",
    "#and only the top 15 countries by Scimagojr 'Rank' (Rank 1 through 15).\n",
    "mrg_df = pd.merge(ScimEn,energy,how='inner',left_on='Country',right_on='Country')\n",
    "mrg_final = pd.merge(mrg_df,GDP,how='inner',left_on='Country',right_on='Country Name')\n",
    "mrg_final = mrg_final.set_index('Country')\n",
    "#mrg_final\n",
    "#mrg_df.columns "
   ]
  },
  {
   "cell_type": "code",
   "execution_count": 324,
   "metadata": {},
   "outputs": [
    {
     "data": {
      "text/plain": [
       "298"
      ]
     },
     "execution_count": 324,
     "metadata": {},
     "output_type": "execute_result"
    }
   ],
   "source": [
    "#Step 4\n",
    "#before you reduced this to the top 15 items, how many entries \n",
    "#did you lose?\n",
    "outer_mrg1 = pd.merge(ScimEn,energy,how='outer',left_on='Country',right_on='Country')\n",
    "outer_mrg2 = pd.merge(outer_mrg1,GDP,how='outer',left_on='Country',right_on='Country Name')\n",
    "len(outer_mrg2) - len(mrg_final)"
   ]
  },
  {
   "cell_type": "code",
   "execution_count": 325,
   "metadata": {
    "scrolled": true
   },
   "outputs": [
    {
     "data": {
      "text/plain": [
       "Country\n",
       "China                 6.348609e+12\n",
       "Japan                 5.542208e+12\n",
       "Russian Federation    1.565459e+12\n",
       "Canada                1.660647e+12\n",
       "Germany               3.493025e+12\n",
       "India                 1.769297e+12\n",
       "France                2.681725e+12\n",
       "South Korea           1.106715e+12\n",
       "Italy                 2.120175e+12\n",
       "Spain                 1.418078e+12\n",
       "Australia             1.164043e+12\n",
       "Brazil                2.189794e+12\n",
       "dtype: float64"
      ]
     },
     "execution_count": 325,
     "metadata": {},
     "output_type": "execute_result"
    }
   ],
   "source": [
    "#Step 5\n",
    "#What is the average GDP over the last 10 years for each country?\n",
    "gdp_cols = mrg_final[['2006', '2007', '2008','2009', '2010', '2011', '2012', '2013', '2014', '2015']]\n",
    "avgGDP = gdp_cols.mean(axis=1)\n",
    "pd.Series(avgGDP)"
   ]
  },
  {
   "cell_type": "code",
   "execution_count": 326,
   "metadata": {},
   "outputs": [
    {
     "data": {
      "text/plain": [
       "152.91666666666666"
      ]
     },
     "execution_count": 326,
     "metadata": {},
     "output_type": "execute_result"
    }
   ],
   "source": [
    "#Step 6\n",
    "#What is the mean Energy Supply per Capita?\n",
    "supply=mrg_final['Energy Supply per Capita'].mean()\n",
    "supply"
   ]
  },
  {
   "cell_type": "code",
   "execution_count": 327,
   "metadata": {},
   "outputs": [
    {
     "data": {
      "text/plain": [
       "('Brazil', 69.64803)"
      ]
     },
     "execution_count": 327,
     "metadata": {},
     "output_type": "execute_result"
    }
   ],
   "source": [
    "#Step 7\n",
    "#What country has the maximum % Renewable \n",
    "#and what is the percentage?\n",
    "Renw = mrg_final['% Renewable']\n",
    "MaxRenw = Renw.idxmax()\n",
    "Renw[MaxRenw]\n",
    "tup = (MaxRenw,Renw[MaxRenw])\n",
    "tup"
   ]
  },
  {
   "cell_type": "code",
   "execution_count": 328,
   "metadata": {},
   "outputs": [
    {
     "data": {
      "text/plain": [
       "('China', 0.6893126179389422)"
      ]
     },
     "execution_count": 328,
     "metadata": {},
     "output_type": "execute_result"
    }
   ],
   "source": [
    "#Step 8\n",
    "#Create a new column that is the ratio of Self-Citations to Total Citations. \n",
    "#What is the maximum value for this new column, \n",
    "#and what country has the highest ratio?\n",
    "ratio=mrg_final['Self-citations']/ mrg_final['Citations']\n",
    "MaxRatio = ratio.idxmax()\n",
    "ratio[MaxRatio]\n",
    "tupl= (MaxRatio,ratio[MaxRatio])\n",
    "tupl"
   ]
  },
  {
   "cell_type": "code",
   "execution_count": 329,
   "metadata": {},
   "outputs": [
    {
     "data": {
      "text/plain": [
       "Country\n",
       "China                 1\n",
       "Japan                 1\n",
       "Russian Federation    1\n",
       "Canada                1\n",
       "Germany               1\n",
       "India                 1\n",
       "France                1\n",
       "South Korea           1\n",
       "Italy                 1\n",
       "Spain                 1\n",
       "Australia             1\n",
       "Brazil                1\n",
       "Name: HighRenew, dtype: int64"
      ]
     },
     "execution_count": 329,
     "metadata": {},
     "output_type": "execute_result"
    }
   ],
   "source": [
    "#Step 9\n",
    "#Create a new column with a 1 if the country's % Renewable \n",
    "#value is at or above the median for all countries, \n",
    "#and a 0 if the country's % Renewable value is below the median.\n",
    "Renw = mrg_final['% Renewable']\n",
    "RenwMid = Renw.median()\n",
    "mrg_final['HighRenew'] = None\n",
    "for i in range(len(Renw)):\n",
    "    if Renw[i]>= RenwMid:\n",
    "        mrg_final['HighRenew'] = 1\n",
    "    else:\n",
    "        mrg_final['HighRenew'] = 0\n",
    "\n",
    "pd.Series(mrg_final['HighRenew'])"
   ]
  },
  {
   "cell_type": "code",
   "execution_count": 330,
   "metadata": {},
   "outputs": [],
   "source": [
    "#Step 10\n",
    "#group the Countries by Continent, \n",
    "#then create a dateframe that displays the sample size \n",
    "#and the sum, mean, and std deviation for the estimated population.\n",
    "ContinentDict  = {'China':'Asia', \n",
    "                  'United States':'North America', \n",
    "                  'Japan':'Asia', \n",
    "                  'United Kingdom':'Europe', \n",
    "                  'Russian Federation':'Europe', \n",
    "                  'Canada':'North America', \n",
    "                  'Germany':'Europe', \n",
    "                  'India':'Asia',\n",
    "                  'France':'Europe', \n",
    "                  'South Korea':'Asia', \n",
    "                  'Italy':'Europe', \n",
    "                  'Spain':'Europe', \n",
    "                  'Iran':'Asia',\n",
    "                  'Australia':'Australia', \n",
    "                  'Brazil':'South America'}\n",
    "#mrg_final\n"
   ]
  },
  {
   "cell_type": "code",
   "execution_count": 331,
   "metadata": {},
   "outputs": [
    {
     "data": {
      "text/html": [
       "<div>\n",
       "<style scoped>\n",
       "    .dataframe tbody tr th:only-of-type {\n",
       "        vertical-align: middle;\n",
       "    }\n",
       "\n",
       "    .dataframe tbody tr th {\n",
       "        vertical-align: top;\n",
       "    }\n",
       "\n",
       "    .dataframe thead th {\n",
       "        text-align: right;\n",
       "    }\n",
       "</style>\n",
       "<table border=\"1\" class=\"dataframe\">\n",
       "  <thead>\n",
       "    <tr style=\"text-align: right;\">\n",
       "      <th></th>\n",
       "      <th>size</th>\n",
       "      <th>sum</th>\n",
       "      <th>mean</th>\n",
       "      <th>std</th>\n",
       "    </tr>\n",
       "  </thead>\n",
       "  <tbody>\n",
       "    <tr>\n",
       "      <th>Asia</th>\n",
       "      <td>4.0</td>\n",
       "      <td>2.821591e+09</td>\n",
       "      <td>7.053977e+08</td>\n",
       "      <td>7.138779e+08</td>\n",
       "    </tr>\n",
       "    <tr>\n",
       "      <th>Australia</th>\n",
       "      <td>1.0</td>\n",
       "      <td>2.331602e+07</td>\n",
       "      <td>2.331602e+07</td>\n",
       "      <td>NaN</td>\n",
       "    </tr>\n",
       "    <tr>\n",
       "      <th>Europe</th>\n",
       "      <td>5.0</td>\n",
       "      <td>3.940587e+08</td>\n",
       "      <td>7.881174e+07</td>\n",
       "      <td>3.813228e+07</td>\n",
       "    </tr>\n",
       "    <tr>\n",
       "      <th>North America</th>\n",
       "      <td>1.0</td>\n",
       "      <td>3.523986e+07</td>\n",
       "      <td>3.523986e+07</td>\n",
       "      <td>NaN</td>\n",
       "    </tr>\n",
       "    <tr>\n",
       "      <th>South America</th>\n",
       "      <td>1.0</td>\n",
       "      <td>2.059153e+08</td>\n",
       "      <td>2.059153e+08</td>\n",
       "      <td>NaN</td>\n",
       "    </tr>\n",
       "  </tbody>\n",
       "</table>\n",
       "</div>"
      ],
      "text/plain": [
       "               size           sum          mean           std\n",
       "Asia            4.0  2.821591e+09  7.053977e+08  7.138779e+08\n",
       "Australia       1.0  2.331602e+07  2.331602e+07           NaN\n",
       "Europe          5.0  3.940587e+08  7.881174e+07  3.813228e+07\n",
       "North America   1.0  3.523986e+07  3.523986e+07           NaN\n",
       "South America   1.0  2.059153e+08  2.059153e+08           NaN"
      ]
     },
     "execution_count": 331,
     "metadata": {},
     "output_type": "execute_result"
    }
   ],
   "source": [
    "#len(frame) == number of countries in this continent\n",
    "mrg_final['Population'] = mrg_final['Energy Supply'] / mrg_final['Energy Supply per Capita']\n",
    "group_df = pd.DataFrame(columns = ['size','sum','mean','std'])\n",
    "for group , frame in mrg_final.groupby(ContinentDict):\n",
    "    group_df.loc[group] = [len(frame), frame['Population'].sum(),frame['Population'].mean(),frame['Population'].std()]\n",
    "group_df"
   ]
  }
 ],
 "metadata": {
  "kernelspec": {
   "display_name": "Python 3",
   "language": "python",
   "name": "python3"
  },
  "language_info": {
   "codemirror_mode": {
    "name": "ipython",
    "version": 3
   },
   "file_extension": ".py",
   "mimetype": "text/x-python",
   "name": "python",
   "nbconvert_exporter": "python",
   "pygments_lexer": "ipython3",
   "version": "3.7.3"
  }
 },
 "nbformat": 4,
 "nbformat_minor": 2
}
